{
 "cells": [
  {
   "cell_type": "code",
   "execution_count": 1,
   "id": "0bfdc893-09cd-43dd-bb5c-547f621a13c4",
   "metadata": {},
   "outputs": [],
   "source": [
    "import numpy as np\n",
    "import pandas as pd\n",
    "import seaborn as sns\n",
    "import matplotlib.pyplot as plt\n",
    "%matplotlib inline"
   ]
  },
  {
   "cell_type": "code",
   "execution_count": 4,
   "id": "c8a79ef5-8b25-49fe-8154-dd29fb5ae23f",
   "metadata": {},
   "outputs": [],
   "source": [
    "df = pd.read_csv('Customer_review.csv',encoding ='unicode_escape')\n",
    "# to avoid encoding error use unicode_escape"
   ]
  },
  {
   "cell_type": "code",
   "execution_count": 5,
   "id": "ddc6ec67-ceb3-4e3f-baa2-1577a7a68259",
   "metadata": {},
   "outputs": [
    {
     "data": {
      "text/plain": [
       "(920, 10)"
      ]
     },
     "execution_count": 5,
     "metadata": {},
     "output_type": "execute_result"
    }
   ],
   "source": [
    "df.shape"
   ]
  },
  {
   "cell_type": "code",
   "execution_count": 10,
   "id": "1bf6dc99-eb02-4218-902c-0782d82625a8",
   "metadata": {},
   "outputs": [
    {
     "data": {
      "text/html": [
       "<div>\n",
       "<style scoped>\n",
       "    .dataframe tbody tr th:only-of-type {\n",
       "        vertical-align: middle;\n",
       "    }\n",
       "\n",
       "    .dataframe tbody tr th {\n",
       "        vertical-align: top;\n",
       "    }\n",
       "\n",
       "    .dataframe thead th {\n",
       "        text-align: right;\n",
       "    }\n",
       "</style>\n",
       "<table border=\"1\" class=\"dataframe\">\n",
       "  <thead>\n",
       "    <tr style=\"text-align: right;\">\n",
       "      <th></th>\n",
       "      <th>Sno</th>\n",
       "      <th>book name</th>\n",
       "      <th>review title</th>\n",
       "      <th>reviewer</th>\n",
       "      <th>reviewer rating</th>\n",
       "      <th>review description</th>\n",
       "      <th>is_verified</th>\n",
       "      <th>date</th>\n",
       "      <th>timestamp</th>\n",
       "      <th>ASIN</th>\n",
       "    </tr>\n",
       "  </thead>\n",
       "  <tbody>\n",
       "    <tr>\n",
       "      <th>0</th>\n",
       "      <td>0</td>\n",
       "      <td>The Woman in Me</td>\n",
       "      <td>Unbelievably impressive. Her torn life on paper.</td>\n",
       "      <td>Murderess Marbie</td>\n",
       "      <td>4.0</td>\n",
       "      <td>I'm only a third way in. Shipped lightening fa...</td>\n",
       "      <td>True</td>\n",
       "      <td>26-10-2023</td>\n",
       "      <td>Reviewed in the United States October 26, 2023</td>\n",
       "      <td>1668009048</td>\n",
       "    </tr>\n",
       "    <tr>\n",
       "      <th>1</th>\n",
       "      <td>1</td>\n",
       "      <td>The Woman in Me</td>\n",
       "      <td>What a heartbreaking story</td>\n",
       "      <td>L J</td>\n",
       "      <td>5.0</td>\n",
       "      <td>\"There have been so many times when I was scar...</td>\n",
       "      <td>True</td>\n",
       "      <td>06-11-2023</td>\n",
       "      <td>Reviewed in the United States November 6, 2023</td>\n",
       "      <td>1668009048</td>\n",
       "    </tr>\n",
       "    <tr>\n",
       "      <th>2</th>\n",
       "      <td>2</td>\n",
       "      <td>The Woman in Me</td>\n",
       "      <td>Britney you are so invincible! You are an insp...</td>\n",
       "      <td>Jamie</td>\n",
       "      <td>5.0</td>\n",
       "      <td>The media could not be loaded. I personally ha...</td>\n",
       "      <td>True</td>\n",
       "      <td>01-11-2023</td>\n",
       "      <td>Reviewed in the United States November 1, 2023</td>\n",
       "      <td>1668009048</td>\n",
       "    </tr>\n",
       "    <tr>\n",
       "      <th>3</th>\n",
       "      <td>3</td>\n",
       "      <td>The Woman in Me</td>\n",
       "      <td>Fast Read, Sad Story</td>\n",
       "      <td>KMG</td>\n",
       "      <td>5.0</td>\n",
       "      <td>I have been a fan of Britney's music since the...</td>\n",
       "      <td>True</td>\n",
       "      <td>25-10-2023</td>\n",
       "      <td>Reviewed in the United States October 25, 2023</td>\n",
       "      <td>1668009048</td>\n",
       "    </tr>\n",
       "    <tr>\n",
       "      <th>4</th>\n",
       "      <td>4</td>\n",
       "      <td>The Woman in Me</td>\n",
       "      <td>Buy it, itâs worth the read!</td>\n",
       "      <td>Stephanie Brown</td>\n",
       "      <td>5.0</td>\n",
       "      <td>Whether or not youâre a fan, itâs a great ...</td>\n",
       "      <td>True</td>\n",
       "      <td>01-11-2023</td>\n",
       "      <td>Reviewed in the United States November 1, 2023</td>\n",
       "      <td>NaN</td>\n",
       "    </tr>\n",
       "  </tbody>\n",
       "</table>\n",
       "</div>"
      ],
      "text/plain": [
       "   Sno        book name                                       review title  \\\n",
       "0    0  The Woman in Me   Unbelievably impressive. Her torn life on paper.   \n",
       "1    1  The Woman in Me                         What a heartbreaking story   \n",
       "2    2  The Woman in Me  Britney you are so invincible! You are an insp...   \n",
       "3    3  The Woman in Me                               Fast Read, Sad Story   \n",
       "4    4  The Woman in Me                     Buy it, itâs worth the read!   \n",
       "\n",
       "           reviewer  reviewer rating  \\\n",
       "0  Murderess Marbie              4.0   \n",
       "1               L J              5.0   \n",
       "2             Jamie              5.0   \n",
       "3               KMG              5.0   \n",
       "4   Stephanie Brown              5.0   \n",
       "\n",
       "                                  review description  is_verified        date  \\\n",
       "0  I'm only a third way in. Shipped lightening fa...         True  26-10-2023   \n",
       "1  \"There have been so many times when I was scar...         True  06-11-2023   \n",
       "2  The media could not be loaded. I personally ha...         True  01-11-2023   \n",
       "3  I have been a fan of Britney's music since the...         True  25-10-2023   \n",
       "4  Whether or not youâre a fan, itâs a great ...         True  01-11-2023   \n",
       "\n",
       "                                        timestamp        ASIN  \n",
       "0  Reviewed in the United States October 26, 2023  1668009048  \n",
       "1  Reviewed in the United States November 6, 2023  1668009048  \n",
       "2  Reviewed in the United States November 1, 2023  1668009048  \n",
       "3  Reviewed in the United States October 25, 2023  1668009048  \n",
       "4  Reviewed in the United States November 1, 2023         NaN  "
      ]
     },
     "execution_count": 10,
     "metadata": {},
     "output_type": "execute_result"
    }
   ],
   "source": [
    "df.head()"
   ]
  },
  {
   "cell_type": "code",
   "execution_count": 9,
   "id": "a82bf8e3-20e9-4e2f-bf37-6c7f6dfe9c8a",
   "metadata": {},
   "outputs": [
    {
     "name": "stdout",
     "output_type": "stream",
     "text": [
      "<class 'pandas.core.frame.DataFrame'>\n",
      "RangeIndex: 920 entries, 0 to 919\n",
      "Data columns (total 10 columns):\n",
      " #   Column              Non-Null Count  Dtype  \n",
      "---  ------              --------------  -----  \n",
      " 0   Sno                 920 non-null    int64  \n",
      " 1   book name           915 non-null    object \n",
      " 2   review title        915 non-null    object \n",
      " 3   reviewer            920 non-null    object \n",
      " 4   reviewer rating     914 non-null    float64\n",
      " 5   review description  914 non-null    object \n",
      " 6   is_verified         920 non-null    bool   \n",
      " 7   date                920 non-null    object \n",
      " 8   timestamp           920 non-null    object \n",
      " 9   ASIN                916 non-null    object \n",
      "dtypes: bool(1), float64(1), int64(1), object(7)\n",
      "memory usage: 65.7+ KB\n"
     ]
    }
   ],
   "source": [
    "df.info()"
   ]
  },
  {
   "cell_type": "code",
   "execution_count": 11,
   "id": "12a9c9fc-0673-4244-8fd8-cc8270274c92",
   "metadata": {},
   "outputs": [],
   "source": [
    "#  to drop a column having 0 rows (here none is zero so just for demonstration dropping Sno\n",
    "df.drop(['Sno'],axis=1,inplace= True)"
   ]
  },
  {
   "cell_type": "code",
   "execution_count": 12,
   "id": "45241482-5237-4e65-9d87-962793f00bcc",
   "metadata": {},
   "outputs": [
    {
     "name": "stdout",
     "output_type": "stream",
     "text": [
      "<class 'pandas.core.frame.DataFrame'>\n",
      "RangeIndex: 920 entries, 0 to 919\n",
      "Data columns (total 9 columns):\n",
      " #   Column              Non-Null Count  Dtype  \n",
      "---  ------              --------------  -----  \n",
      " 0   book name           915 non-null    object \n",
      " 1   review title        915 non-null    object \n",
      " 2   reviewer            920 non-null    object \n",
      " 3   reviewer rating     914 non-null    float64\n",
      " 4   review description  914 non-null    object \n",
      " 5   is_verified         920 non-null    bool   \n",
      " 6   date                920 non-null    object \n",
      " 7   timestamp           920 non-null    object \n",
      " 8   ASIN                916 non-null    object \n",
      "dtypes: bool(1), float64(1), object(7)\n",
      "memory usage: 58.5+ KB\n"
     ]
    }
   ],
   "source": [
    "df.info()"
   ]
  },
  {
   "cell_type": "code",
   "execution_count": 13,
   "id": "a2878887-c568-4282-bc19-886ff861791a",
   "metadata": {},
   "outputs": [
    {
     "data": {
      "text/html": [
       "<div>\n",
       "<style scoped>\n",
       "    .dataframe tbody tr th:only-of-type {\n",
       "        vertical-align: middle;\n",
       "    }\n",
       "\n",
       "    .dataframe tbody tr th {\n",
       "        vertical-align: top;\n",
       "    }\n",
       "\n",
       "    .dataframe thead th {\n",
       "        text-align: right;\n",
       "    }\n",
       "</style>\n",
       "<table border=\"1\" class=\"dataframe\">\n",
       "  <thead>\n",
       "    <tr style=\"text-align: right;\">\n",
       "      <th></th>\n",
       "      <th>book name</th>\n",
       "      <th>review title</th>\n",
       "      <th>reviewer</th>\n",
       "      <th>reviewer rating</th>\n",
       "      <th>review description</th>\n",
       "      <th>is_verified</th>\n",
       "      <th>date</th>\n",
       "      <th>timestamp</th>\n",
       "      <th>ASIN</th>\n",
       "    </tr>\n",
       "  </thead>\n",
       "  <tbody>\n",
       "    <tr>\n",
       "      <th>0</th>\n",
       "      <td>False</td>\n",
       "      <td>False</td>\n",
       "      <td>False</td>\n",
       "      <td>False</td>\n",
       "      <td>False</td>\n",
       "      <td>False</td>\n",
       "      <td>False</td>\n",
       "      <td>False</td>\n",
       "      <td>False</td>\n",
       "    </tr>\n",
       "    <tr>\n",
       "      <th>1</th>\n",
       "      <td>False</td>\n",
       "      <td>False</td>\n",
       "      <td>False</td>\n",
       "      <td>False</td>\n",
       "      <td>False</td>\n",
       "      <td>False</td>\n",
       "      <td>False</td>\n",
       "      <td>False</td>\n",
       "      <td>False</td>\n",
       "    </tr>\n",
       "    <tr>\n",
       "      <th>2</th>\n",
       "      <td>False</td>\n",
       "      <td>False</td>\n",
       "      <td>False</td>\n",
       "      <td>False</td>\n",
       "      <td>False</td>\n",
       "      <td>False</td>\n",
       "      <td>False</td>\n",
       "      <td>False</td>\n",
       "      <td>False</td>\n",
       "    </tr>\n",
       "    <tr>\n",
       "      <th>3</th>\n",
       "      <td>False</td>\n",
       "      <td>False</td>\n",
       "      <td>False</td>\n",
       "      <td>False</td>\n",
       "      <td>False</td>\n",
       "      <td>False</td>\n",
       "      <td>False</td>\n",
       "      <td>False</td>\n",
       "      <td>False</td>\n",
       "    </tr>\n",
       "    <tr>\n",
       "      <th>4</th>\n",
       "      <td>False</td>\n",
       "      <td>False</td>\n",
       "      <td>False</td>\n",
       "      <td>False</td>\n",
       "      <td>False</td>\n",
       "      <td>False</td>\n",
       "      <td>False</td>\n",
       "      <td>False</td>\n",
       "      <td>True</td>\n",
       "    </tr>\n",
       "    <tr>\n",
       "      <th>...</th>\n",
       "      <td>...</td>\n",
       "      <td>...</td>\n",
       "      <td>...</td>\n",
       "      <td>...</td>\n",
       "      <td>...</td>\n",
       "      <td>...</td>\n",
       "      <td>...</td>\n",
       "      <td>...</td>\n",
       "      <td>...</td>\n",
       "    </tr>\n",
       "    <tr>\n",
       "      <th>915</th>\n",
       "      <td>False</td>\n",
       "      <td>False</td>\n",
       "      <td>False</td>\n",
       "      <td>False</td>\n",
       "      <td>False</td>\n",
       "      <td>False</td>\n",
       "      <td>False</td>\n",
       "      <td>False</td>\n",
       "      <td>False</td>\n",
       "    </tr>\n",
       "    <tr>\n",
       "      <th>916</th>\n",
       "      <td>False</td>\n",
       "      <td>False</td>\n",
       "      <td>False</td>\n",
       "      <td>False</td>\n",
       "      <td>False</td>\n",
       "      <td>False</td>\n",
       "      <td>False</td>\n",
       "      <td>False</td>\n",
       "      <td>False</td>\n",
       "    </tr>\n",
       "    <tr>\n",
       "      <th>917</th>\n",
       "      <td>False</td>\n",
       "      <td>False</td>\n",
       "      <td>False</td>\n",
       "      <td>False</td>\n",
       "      <td>False</td>\n",
       "      <td>False</td>\n",
       "      <td>False</td>\n",
       "      <td>False</td>\n",
       "      <td>False</td>\n",
       "    </tr>\n",
       "    <tr>\n",
       "      <th>918</th>\n",
       "      <td>False</td>\n",
       "      <td>False</td>\n",
       "      <td>False</td>\n",
       "      <td>False</td>\n",
       "      <td>False</td>\n",
       "      <td>False</td>\n",
       "      <td>False</td>\n",
       "      <td>False</td>\n",
       "      <td>False</td>\n",
       "    </tr>\n",
       "    <tr>\n",
       "      <th>919</th>\n",
       "      <td>False</td>\n",
       "      <td>False</td>\n",
       "      <td>False</td>\n",
       "      <td>False</td>\n",
       "      <td>False</td>\n",
       "      <td>False</td>\n",
       "      <td>False</td>\n",
       "      <td>False</td>\n",
       "      <td>False</td>\n",
       "    </tr>\n",
       "  </tbody>\n",
       "</table>\n",
       "<p>920 rows × 9 columns</p>\n",
       "</div>"
      ],
      "text/plain": [
       "     book name  review title  reviewer  reviewer rating  review description  \\\n",
       "0        False         False     False            False               False   \n",
       "1        False         False     False            False               False   \n",
       "2        False         False     False            False               False   \n",
       "3        False         False     False            False               False   \n",
       "4        False         False     False            False               False   \n",
       "..         ...           ...       ...              ...                 ...   \n",
       "915      False         False     False            False               False   \n",
       "916      False         False     False            False               False   \n",
       "917      False         False     False            False               False   \n",
       "918      False         False     False            False               False   \n",
       "919      False         False     False            False               False   \n",
       "\n",
       "     is_verified   date  timestamp   ASIN  \n",
       "0          False  False      False  False  \n",
       "1          False  False      False  False  \n",
       "2          False  False      False  False  \n",
       "3          False  False      False  False  \n",
       "4          False  False      False   True  \n",
       "..           ...    ...        ...    ...  \n",
       "915        False  False      False  False  \n",
       "916        False  False      False  False  \n",
       "917        False  False      False  False  \n",
       "918        False  False      False  False  \n",
       "919        False  False      False  False  \n",
       "\n",
       "[920 rows x 9 columns]"
      ]
     },
     "execution_count": 13,
     "metadata": {},
     "output_type": "execute_result"
    }
   ],
   "source": [
    "# To check any column has null value use pd.isnull\n",
    "pd.isnull(df)"
   ]
  },
  {
   "cell_type": "code",
   "execution_count": 14,
   "id": "645555ff-ba30-4a95-a850-9f2a21c0fd6e",
   "metadata": {},
   "outputs": [
    {
     "data": {
      "text/plain": [
       "book name             5\n",
       "review title          5\n",
       "reviewer              0\n",
       "reviewer rating       6\n",
       "review description    6\n",
       "is_verified           0\n",
       "date                  0\n",
       "timestamp             0\n",
       "ASIN                  4\n",
       "dtype: int64"
      ]
     },
     "execution_count": 14,
     "metadata": {},
     "output_type": "execute_result"
    }
   ],
   "source": [
    "# Sum above true or false result to get insight \n",
    "pd.isnull(df).sum()"
   ]
  },
  {
   "cell_type": "code",
   "execution_count": 16,
   "id": "cc8a42a4-2963-430e-98bb-7c7887efb3e4",
   "metadata": {},
   "outputs": [
    {
     "data": {
      "text/plain": [
       "(920, 9)"
      ]
     },
     "execution_count": 16,
     "metadata": {},
     "output_type": "execute_result"
    }
   ],
   "source": [
    "df.shape"
   ]
  },
  {
   "cell_type": "code",
   "execution_count": 17,
   "id": "d71f779d-ebb3-489b-99ae-1bca1b42f848",
   "metadata": {},
   "outputs": [],
   "source": [
    "df.dropna(inplace=True)\n",
    "# To drop null value"
   ]
  },
  {
   "cell_type": "code",
   "execution_count": 18,
   "id": "2a65a85d-6e8f-41e1-b80d-2ac44f1f19e4",
   "metadata": {},
   "outputs": [
    {
     "data": {
      "text/plain": [
       "(905, 9)"
      ]
     },
     "execution_count": 18,
     "metadata": {},
     "output_type": "execute_result"
    }
   ],
   "source": [
    "df.shape"
   ]
  },
  {
   "cell_type": "code",
   "execution_count": 19,
   "id": "757c2f74-8b17-49c2-8fc9-974dbe9f0d53",
   "metadata": {},
   "outputs": [
    {
     "data": {
      "text/plain": [
       "book name             0\n",
       "review title          0\n",
       "reviewer              0\n",
       "reviewer rating       0\n",
       "review description    0\n",
       "is_verified           0\n",
       "date                  0\n",
       "timestamp             0\n",
       "ASIN                  0\n",
       "dtype: int64"
      ]
     },
     "execution_count": 19,
     "metadata": {},
     "output_type": "execute_result"
    }
   ],
   "source": [
    "pd.isnull(df).sum()"
   ]
  },
  {
   "cell_type": "code",
   "execution_count": 25,
   "id": "d050c47c-1938-4e10-87ff-c447d1e31fc7",
   "metadata": {},
   "outputs": [
    {
     "data": {
      "text/plain": [
       "dtype('O')"
      ]
     },
     "execution_count": 25,
     "metadata": {},
     "output_type": "execute_result"
    }
   ],
   "source": [
    "df['ASIN'].dtypes"
   ]
  },
  {
   "cell_type": "code",
   "execution_count": 28,
   "id": "2d001e9a-ae44-4dd8-903f-6a706120cd3f",
   "metadata": {},
   "outputs": [
    {
     "data": {
      "text/plain": [
       "Index(['book name', 'review title', 'reviewer', 'reviewer rating',\n",
       "       'review description', 'is_verified', 'date', 'timestamp', 'ASIN'],\n",
       "      dtype='object')"
      ]
     },
     "execution_count": 28,
     "metadata": {},
     "output_type": "execute_result"
    }
   ],
   "source": [
    "df.columns"
   ]
  },
  {
   "cell_type": "code",
   "execution_count": 29,
   "id": "a87c4520-9005-4c9d-ab78-8182f75635d6",
   "metadata": {},
   "outputs": [
    {
     "data": {
      "text/html": [
       "<div>\n",
       "<style scoped>\n",
       "    .dataframe tbody tr th:only-of-type {\n",
       "        vertical-align: middle;\n",
       "    }\n",
       "\n",
       "    .dataframe tbody tr th {\n",
       "        vertical-align: top;\n",
       "    }\n",
       "\n",
       "    .dataframe thead th {\n",
       "        text-align: right;\n",
       "    }\n",
       "</style>\n",
       "<table border=\"1\" class=\"dataframe\">\n",
       "  <thead>\n",
       "    <tr style=\"text-align: right;\">\n",
       "      <th></th>\n",
       "      <th>book name</th>\n",
       "      <th>review title</th>\n",
       "      <th>reviewer</th>\n",
       "      <th>reviewer rating</th>\n",
       "      <th>review description</th>\n",
       "      <th>is_verified</th>\n",
       "      <th>date</th>\n",
       "      <th>timestamp</th>\n",
       "      <th>Uniqe</th>\n",
       "    </tr>\n",
       "  </thead>\n",
       "  <tbody>\n",
       "    <tr>\n",
       "      <th>0</th>\n",
       "      <td>The Woman in Me</td>\n",
       "      <td>Unbelievably impressive. Her torn life on paper.</td>\n",
       "      <td>Murderess Marbie</td>\n",
       "      <td>4.0</td>\n",
       "      <td>I'm only a third way in. Shipped lightening fa...</td>\n",
       "      <td>True</td>\n",
       "      <td>26-10-2023</td>\n",
       "      <td>Reviewed in the United States October 26, 2023</td>\n",
       "      <td>1668009048</td>\n",
       "    </tr>\n",
       "    <tr>\n",
       "      <th>1</th>\n",
       "      <td>The Woman in Me</td>\n",
       "      <td>What a heartbreaking story</td>\n",
       "      <td>L J</td>\n",
       "      <td>5.0</td>\n",
       "      <td>\"There have been so many times when I was scar...</td>\n",
       "      <td>True</td>\n",
       "      <td>06-11-2023</td>\n",
       "      <td>Reviewed in the United States November 6, 2023</td>\n",
       "      <td>1668009048</td>\n",
       "    </tr>\n",
       "    <tr>\n",
       "      <th>2</th>\n",
       "      <td>The Woman in Me</td>\n",
       "      <td>Britney you are so invincible! You are an insp...</td>\n",
       "      <td>Jamie</td>\n",
       "      <td>5.0</td>\n",
       "      <td>The media could not be loaded. I personally ha...</td>\n",
       "      <td>True</td>\n",
       "      <td>01-11-2023</td>\n",
       "      <td>Reviewed in the United States November 1, 2023</td>\n",
       "      <td>1668009048</td>\n",
       "    </tr>\n",
       "    <tr>\n",
       "      <th>3</th>\n",
       "      <td>The Woman in Me</td>\n",
       "      <td>Fast Read, Sad Story</td>\n",
       "      <td>KMG</td>\n",
       "      <td>5.0</td>\n",
       "      <td>I have been a fan of Britney's music since the...</td>\n",
       "      <td>True</td>\n",
       "      <td>25-10-2023</td>\n",
       "      <td>Reviewed in the United States October 25, 2023</td>\n",
       "      <td>1668009048</td>\n",
       "    </tr>\n",
       "    <tr>\n",
       "      <th>8</th>\n",
       "      <td>The Woman in Me</td>\n",
       "      <td>In her words, heartbreaking and hopeful</td>\n",
       "      <td>katereviews</td>\n",
       "      <td>5.0</td>\n",
       "      <td>Her life and story told in her words. Britney ...</td>\n",
       "      <td>True</td>\n",
       "      <td>25-10-2023</td>\n",
       "      <td>Reviewed in the United States October 25, 2023</td>\n",
       "      <td>1668009048</td>\n",
       "    </tr>\n",
       "    <tr>\n",
       "      <th>...</th>\n",
       "      <td>...</td>\n",
       "      <td>...</td>\n",
       "      <td>...</td>\n",
       "      <td>...</td>\n",
       "      <td>...</td>\n",
       "      <td>...</td>\n",
       "      <td>...</td>\n",
       "      <td>...</td>\n",
       "      <td>...</td>\n",
       "    </tr>\n",
       "    <tr>\n",
       "      <th>915</th>\n",
       "      <td>The Wonky Donkey</td>\n",
       "      <td>The best child/grandmother book ever written</td>\n",
       "      <td>Marilyn Kreienkamp</td>\n",
       "      <td>5.0</td>\n",
       "      <td>This is exactly the kind of book children unde...</td>\n",
       "      <td>True</td>\n",
       "      <td>02-11-2023</td>\n",
       "      <td>Reviewed in the United States November 2, 2023</td>\n",
       "      <td>545261244</td>\n",
       "    </tr>\n",
       "    <tr>\n",
       "      <th>916</th>\n",
       "      <td>The Wonky Donkey</td>\n",
       "      <td>Great book</td>\n",
       "      <td>Amazon Customer</td>\n",
       "      <td>5.0</td>\n",
       "      <td>We get this book for all our grandchildren the...</td>\n",
       "      <td>True</td>\n",
       "      <td>30-10-2023</td>\n",
       "      <td>Reviewed in the United States October 30, 2023</td>\n",
       "      <td>545261244</td>\n",
       "    </tr>\n",
       "    <tr>\n",
       "      <th>917</th>\n",
       "      <td>The Wonky Donkey</td>\n",
       "      <td>Fun book, makes you laugh</td>\n",
       "      <td>Jennifer Tinucci</td>\n",
       "      <td>5.0</td>\n",
       "      <td>I saw a grandma reading this book to her grand...</td>\n",
       "      <td>True</td>\n",
       "      <td>24-10-2023</td>\n",
       "      <td>Reviewed in the United States October 24, 2023</td>\n",
       "      <td>545261244</td>\n",
       "    </tr>\n",
       "    <tr>\n",
       "      <th>918</th>\n",
       "      <td>The Wonky Donkey</td>\n",
       "      <td>Cutest beck ever!!</td>\n",
       "      <td>Janice Easter</td>\n",
       "      <td>5.0</td>\n",
       "      <td>I have ordered this book over and over to give...</td>\n",
       "      <td>True</td>\n",
       "      <td>19-10-2023</td>\n",
       "      <td>Reviewed in the United States October 19, 2023</td>\n",
       "      <td>545261244</td>\n",
       "    </tr>\n",
       "    <tr>\n",
       "      <th>919</th>\n",
       "      <td>The Wonky Donkey</td>\n",
       "      <td>Awesome Book</td>\n",
       "      <td>MC</td>\n",
       "      <td>5.0</td>\n",
       "      <td>This book was hysterical! My daughter loves it...</td>\n",
       "      <td>True</td>\n",
       "      <td>23-10-2023</td>\n",
       "      <td>Reviewed in the United States October 23, 2023</td>\n",
       "      <td>545261244</td>\n",
       "    </tr>\n",
       "  </tbody>\n",
       "</table>\n",
       "<p>905 rows × 9 columns</p>\n",
       "</div>"
      ],
      "text/plain": [
       "            book name                                       review title  \\\n",
       "0     The Woman in Me   Unbelievably impressive. Her torn life on paper.   \n",
       "1     The Woman in Me                         What a heartbreaking story   \n",
       "2     The Woman in Me  Britney you are so invincible! You are an insp...   \n",
       "3     The Woman in Me                               Fast Read, Sad Story   \n",
       "8     The Woman in Me            In her words, heartbreaking and hopeful   \n",
       "..                ...                                                ...   \n",
       "915  The Wonky Donkey       The best child/grandmother book ever written   \n",
       "916  The Wonky Donkey                                         Great book   \n",
       "917  The Wonky Donkey                          Fun book, makes you laugh   \n",
       "918  The Wonky Donkey                                 Cutest beck ever!!   \n",
       "919  The Wonky Donkey                                       Awesome Book   \n",
       "\n",
       "               reviewer  reviewer rating  \\\n",
       "0      Murderess Marbie              4.0   \n",
       "1                   L J              5.0   \n",
       "2                 Jamie              5.0   \n",
       "3                   KMG              5.0   \n",
       "8           katereviews              5.0   \n",
       "..                  ...              ...   \n",
       "915  Marilyn Kreienkamp              5.0   \n",
       "916     Amazon Customer              5.0   \n",
       "917    Jennifer Tinucci              5.0   \n",
       "918       Janice Easter              5.0   \n",
       "919                  MC              5.0   \n",
       "\n",
       "                                    review description  is_verified  \\\n",
       "0    I'm only a third way in. Shipped lightening fa...         True   \n",
       "1    \"There have been so many times when I was scar...         True   \n",
       "2    The media could not be loaded. I personally ha...         True   \n",
       "3    I have been a fan of Britney's music since the...         True   \n",
       "8    Her life and story told in her words. Britney ...         True   \n",
       "..                                                 ...          ...   \n",
       "915  This is exactly the kind of book children unde...         True   \n",
       "916  We get this book for all our grandchildren the...         True   \n",
       "917  I saw a grandma reading this book to her grand...         True   \n",
       "918  I have ordered this book over and over to give...         True   \n",
       "919  This book was hysterical! My daughter loves it...         True   \n",
       "\n",
       "           date                                       timestamp       Uniqe  \n",
       "0    26-10-2023  Reviewed in the United States October 26, 2023  1668009048  \n",
       "1    06-11-2023  Reviewed in the United States November 6, 2023  1668009048  \n",
       "2    01-11-2023  Reviewed in the United States November 1, 2023  1668009048  \n",
       "3    25-10-2023  Reviewed in the United States October 25, 2023  1668009048  \n",
       "8    25-10-2023  Reviewed in the United States October 25, 2023  1668009048  \n",
       "..          ...                                             ...         ...  \n",
       "915  02-11-2023  Reviewed in the United States November 2, 2023   545261244  \n",
       "916  30-10-2023  Reviewed in the United States October 30, 2023   545261244  \n",
       "917  24-10-2023  Reviewed in the United States October 24, 2023   545261244  \n",
       "918  19-10-2023  Reviewed in the United States October 19, 2023   545261244  \n",
       "919  23-10-2023  Reviewed in the United States October 23, 2023   545261244  \n",
       "\n",
       "[905 rows x 9 columns]"
      ]
     },
     "execution_count": 29,
     "metadata": {},
     "output_type": "execute_result"
    }
   ],
   "source": [
    "df.rename(columns={'ASIN':'Uniqe'})"
   ]
  },
  {
   "cell_type": "code",
   "execution_count": 30,
   "id": "09e74bbf-46fd-4675-a898-4564c1118105",
   "metadata": {},
   "outputs": [
    {
     "data": {
      "text/html": [
       "<div>\n",
       "<style scoped>\n",
       "    .dataframe tbody tr th:only-of-type {\n",
       "        vertical-align: middle;\n",
       "    }\n",
       "\n",
       "    .dataframe tbody tr th {\n",
       "        vertical-align: top;\n",
       "    }\n",
       "\n",
       "    .dataframe thead th {\n",
       "        text-align: right;\n",
       "    }\n",
       "</style>\n",
       "<table border=\"1\" class=\"dataframe\">\n",
       "  <thead>\n",
       "    <tr style=\"text-align: right;\">\n",
       "      <th></th>\n",
       "      <th>book name</th>\n",
       "      <th>review title</th>\n",
       "      <th>reviewer</th>\n",
       "      <th>reviewer rating</th>\n",
       "      <th>review description</th>\n",
       "      <th>is_verified</th>\n",
       "      <th>date</th>\n",
       "      <th>timestamp</th>\n",
       "      <th>ASIN</th>\n",
       "    </tr>\n",
       "  </thead>\n",
       "  <tbody>\n",
       "    <tr>\n",
       "      <th>0</th>\n",
       "      <td>The Woman in Me</td>\n",
       "      <td>Unbelievably impressive. Her torn life on paper.</td>\n",
       "      <td>Murderess Marbie</td>\n",
       "      <td>4.0</td>\n",
       "      <td>I'm only a third way in. Shipped lightening fa...</td>\n",
       "      <td>True</td>\n",
       "      <td>26-10-2023</td>\n",
       "      <td>Reviewed in the United States October 26, 2023</td>\n",
       "      <td>1668009048</td>\n",
       "    </tr>\n",
       "    <tr>\n",
       "      <th>1</th>\n",
       "      <td>The Woman in Me</td>\n",
       "      <td>What a heartbreaking story</td>\n",
       "      <td>L J</td>\n",
       "      <td>5.0</td>\n",
       "      <td>\"There have been so many times when I was scar...</td>\n",
       "      <td>True</td>\n",
       "      <td>06-11-2023</td>\n",
       "      <td>Reviewed in the United States November 6, 2023</td>\n",
       "      <td>1668009048</td>\n",
       "    </tr>\n",
       "    <tr>\n",
       "      <th>2</th>\n",
       "      <td>The Woman in Me</td>\n",
       "      <td>Britney you are so invincible! You are an insp...</td>\n",
       "      <td>Jamie</td>\n",
       "      <td>5.0</td>\n",
       "      <td>The media could not be loaded. I personally ha...</td>\n",
       "      <td>True</td>\n",
       "      <td>01-11-2023</td>\n",
       "      <td>Reviewed in the United States November 1, 2023</td>\n",
       "      <td>1668009048</td>\n",
       "    </tr>\n",
       "    <tr>\n",
       "      <th>3</th>\n",
       "      <td>The Woman in Me</td>\n",
       "      <td>Fast Read, Sad Story</td>\n",
       "      <td>KMG</td>\n",
       "      <td>5.0</td>\n",
       "      <td>I have been a fan of Britney's music since the...</td>\n",
       "      <td>True</td>\n",
       "      <td>25-10-2023</td>\n",
       "      <td>Reviewed in the United States October 25, 2023</td>\n",
       "      <td>1668009048</td>\n",
       "    </tr>\n",
       "    <tr>\n",
       "      <th>8</th>\n",
       "      <td>The Woman in Me</td>\n",
       "      <td>In her words, heartbreaking and hopeful</td>\n",
       "      <td>katereviews</td>\n",
       "      <td>5.0</td>\n",
       "      <td>Her life and story told in her words. Britney ...</td>\n",
       "      <td>True</td>\n",
       "      <td>25-10-2023</td>\n",
       "      <td>Reviewed in the United States October 25, 2023</td>\n",
       "      <td>1668009048</td>\n",
       "    </tr>\n",
       "    <tr>\n",
       "      <th>...</th>\n",
       "      <td>...</td>\n",
       "      <td>...</td>\n",
       "      <td>...</td>\n",
       "      <td>...</td>\n",
       "      <td>...</td>\n",
       "      <td>...</td>\n",
       "      <td>...</td>\n",
       "      <td>...</td>\n",
       "      <td>...</td>\n",
       "    </tr>\n",
       "    <tr>\n",
       "      <th>915</th>\n",
       "      <td>The Wonky Donkey</td>\n",
       "      <td>The best child/grandmother book ever written</td>\n",
       "      <td>Marilyn Kreienkamp</td>\n",
       "      <td>5.0</td>\n",
       "      <td>This is exactly the kind of book children unde...</td>\n",
       "      <td>True</td>\n",
       "      <td>02-11-2023</td>\n",
       "      <td>Reviewed in the United States November 2, 2023</td>\n",
       "      <td>545261244</td>\n",
       "    </tr>\n",
       "    <tr>\n",
       "      <th>916</th>\n",
       "      <td>The Wonky Donkey</td>\n",
       "      <td>Great book</td>\n",
       "      <td>Amazon Customer</td>\n",
       "      <td>5.0</td>\n",
       "      <td>We get this book for all our grandchildren the...</td>\n",
       "      <td>True</td>\n",
       "      <td>30-10-2023</td>\n",
       "      <td>Reviewed in the United States October 30, 2023</td>\n",
       "      <td>545261244</td>\n",
       "    </tr>\n",
       "    <tr>\n",
       "      <th>917</th>\n",
       "      <td>The Wonky Donkey</td>\n",
       "      <td>Fun book, makes you laugh</td>\n",
       "      <td>Jennifer Tinucci</td>\n",
       "      <td>5.0</td>\n",
       "      <td>I saw a grandma reading this book to her grand...</td>\n",
       "      <td>True</td>\n",
       "      <td>24-10-2023</td>\n",
       "      <td>Reviewed in the United States October 24, 2023</td>\n",
       "      <td>545261244</td>\n",
       "    </tr>\n",
       "    <tr>\n",
       "      <th>918</th>\n",
       "      <td>The Wonky Donkey</td>\n",
       "      <td>Cutest beck ever!!</td>\n",
       "      <td>Janice Easter</td>\n",
       "      <td>5.0</td>\n",
       "      <td>I have ordered this book over and over to give...</td>\n",
       "      <td>True</td>\n",
       "      <td>19-10-2023</td>\n",
       "      <td>Reviewed in the United States October 19, 2023</td>\n",
       "      <td>545261244</td>\n",
       "    </tr>\n",
       "    <tr>\n",
       "      <th>919</th>\n",
       "      <td>The Wonky Donkey</td>\n",
       "      <td>Awesome Book</td>\n",
       "      <td>MC</td>\n",
       "      <td>5.0</td>\n",
       "      <td>This book was hysterical! My daughter loves it...</td>\n",
       "      <td>True</td>\n",
       "      <td>23-10-2023</td>\n",
       "      <td>Reviewed in the United States October 23, 2023</td>\n",
       "      <td>545261244</td>\n",
       "    </tr>\n",
       "  </tbody>\n",
       "</table>\n",
       "<p>905 rows × 9 columns</p>\n",
       "</div>"
      ],
      "text/plain": [
       "            book name                                       review title  \\\n",
       "0     The Woman in Me   Unbelievably impressive. Her torn life on paper.   \n",
       "1     The Woman in Me                         What a heartbreaking story   \n",
       "2     The Woman in Me  Britney you are so invincible! You are an insp...   \n",
       "3     The Woman in Me                               Fast Read, Sad Story   \n",
       "8     The Woman in Me            In her words, heartbreaking and hopeful   \n",
       "..                ...                                                ...   \n",
       "915  The Wonky Donkey       The best child/grandmother book ever written   \n",
       "916  The Wonky Donkey                                         Great book   \n",
       "917  The Wonky Donkey                          Fun book, makes you laugh   \n",
       "918  The Wonky Donkey                                 Cutest beck ever!!   \n",
       "919  The Wonky Donkey                                       Awesome Book   \n",
       "\n",
       "               reviewer  reviewer rating  \\\n",
       "0      Murderess Marbie              4.0   \n",
       "1                   L J              5.0   \n",
       "2                 Jamie              5.0   \n",
       "3                   KMG              5.0   \n",
       "8           katereviews              5.0   \n",
       "..                  ...              ...   \n",
       "915  Marilyn Kreienkamp              5.0   \n",
       "916     Amazon Customer              5.0   \n",
       "917    Jennifer Tinucci              5.0   \n",
       "918       Janice Easter              5.0   \n",
       "919                  MC              5.0   \n",
       "\n",
       "                                    review description  is_verified  \\\n",
       "0    I'm only a third way in. Shipped lightening fa...         True   \n",
       "1    \"There have been so many times when I was scar...         True   \n",
       "2    The media could not be loaded. I personally ha...         True   \n",
       "3    I have been a fan of Britney's music since the...         True   \n",
       "8    Her life and story told in her words. Britney ...         True   \n",
       "..                                                 ...          ...   \n",
       "915  This is exactly the kind of book children unde...         True   \n",
       "916  We get this book for all our grandchildren the...         True   \n",
       "917  I saw a grandma reading this book to her grand...         True   \n",
       "918  I have ordered this book over and over to give...         True   \n",
       "919  This book was hysterical! My daughter loves it...         True   \n",
       "\n",
       "           date                                       timestamp        ASIN  \n",
       "0    26-10-2023  Reviewed in the United States October 26, 2023  1668009048  \n",
       "1    06-11-2023  Reviewed in the United States November 6, 2023  1668009048  \n",
       "2    01-11-2023  Reviewed in the United States November 1, 2023  1668009048  \n",
       "3    25-10-2023  Reviewed in the United States October 25, 2023  1668009048  \n",
       "8    25-10-2023  Reviewed in the United States October 25, 2023  1668009048  \n",
       "..          ...                                             ...         ...  \n",
       "915  02-11-2023  Reviewed in the United States November 2, 2023   545261244  \n",
       "916  30-10-2023  Reviewed in the United States October 30, 2023   545261244  \n",
       "917  24-10-2023  Reviewed in the United States October 24, 2023   545261244  \n",
       "918  19-10-2023  Reviewed in the United States October 19, 2023   545261244  \n",
       "919  23-10-2023  Reviewed in the United States October 23, 2023   545261244  \n",
       "\n",
       "[905 rows x 9 columns]"
      ]
     },
     "execution_count": 30,
     "metadata": {},
     "output_type": "execute_result"
    }
   ],
   "source": [
    "# Renaming again to its original column name \n",
    "df.rename({'Uniqe':'ASIN'})"
   ]
  },
  {
   "cell_type": "code",
   "execution_count": 31,
   "id": "7ebdd261-6050-4cbf-9462-0df0583ba0c8",
   "metadata": {},
   "outputs": [
    {
     "data": {
      "text/html": [
       "<div>\n",
       "<style scoped>\n",
       "    .dataframe tbody tr th:only-of-type {\n",
       "        vertical-align: middle;\n",
       "    }\n",
       "\n",
       "    .dataframe tbody tr th {\n",
       "        vertical-align: top;\n",
       "    }\n",
       "\n",
       "    .dataframe thead th {\n",
       "        text-align: right;\n",
       "    }\n",
       "</style>\n",
       "<table border=\"1\" class=\"dataframe\">\n",
       "  <thead>\n",
       "    <tr style=\"text-align: right;\">\n",
       "      <th></th>\n",
       "      <th>reviewer rating</th>\n",
       "    </tr>\n",
       "  </thead>\n",
       "  <tbody>\n",
       "    <tr>\n",
       "      <th>count</th>\n",
       "      <td>905.000000</td>\n",
       "    </tr>\n",
       "    <tr>\n",
       "      <th>mean</th>\n",
       "      <td>4.829834</td>\n",
       "    </tr>\n",
       "    <tr>\n",
       "      <th>std</th>\n",
       "      <td>0.428253</td>\n",
       "    </tr>\n",
       "    <tr>\n",
       "      <th>min</th>\n",
       "      <td>2.000000</td>\n",
       "    </tr>\n",
       "    <tr>\n",
       "      <th>25%</th>\n",
       "      <td>5.000000</td>\n",
       "    </tr>\n",
       "    <tr>\n",
       "      <th>50%</th>\n",
       "      <td>5.000000</td>\n",
       "    </tr>\n",
       "    <tr>\n",
       "      <th>75%</th>\n",
       "      <td>5.000000</td>\n",
       "    </tr>\n",
       "    <tr>\n",
       "      <th>max</th>\n",
       "      <td>5.000000</td>\n",
       "    </tr>\n",
       "  </tbody>\n",
       "</table>\n",
       "</div>"
      ],
      "text/plain": [
       "       reviewer rating\n",
       "count       905.000000\n",
       "mean          4.829834\n",
       "std           0.428253\n",
       "min           2.000000\n",
       "25%           5.000000\n",
       "50%           5.000000\n",
       "75%           5.000000\n",
       "max           5.000000"
      ]
     },
     "execution_count": 31,
     "metadata": {},
     "output_type": "execute_result"
    }
   ],
   "source": [
    "df.describe()"
   ]
  },
  {
   "cell_type": "code",
   "execution_count": 32,
   "id": "44bff475-2cf2-42ce-bb7a-f72f15577c6d",
   "metadata": {},
   "outputs": [
    {
     "data": {
      "text/html": [
       "<div>\n",
       "<style scoped>\n",
       "    .dataframe tbody tr th:only-of-type {\n",
       "        vertical-align: middle;\n",
       "    }\n",
       "\n",
       "    .dataframe tbody tr th {\n",
       "        vertical-align: top;\n",
       "    }\n",
       "\n",
       "    .dataframe thead th {\n",
       "        text-align: right;\n",
       "    }\n",
       "</style>\n",
       "<table border=\"1\" class=\"dataframe\">\n",
       "  <thead>\n",
       "    <tr style=\"text-align: right;\">\n",
       "      <th></th>\n",
       "      <th>reviewer rating</th>\n",
       "    </tr>\n",
       "  </thead>\n",
       "  <tbody>\n",
       "    <tr>\n",
       "      <th>count</th>\n",
       "      <td>905.000000</td>\n",
       "    </tr>\n",
       "    <tr>\n",
       "      <th>mean</th>\n",
       "      <td>4.829834</td>\n",
       "    </tr>\n",
       "    <tr>\n",
       "      <th>std</th>\n",
       "      <td>0.428253</td>\n",
       "    </tr>\n",
       "    <tr>\n",
       "      <th>min</th>\n",
       "      <td>2.000000</td>\n",
       "    </tr>\n",
       "    <tr>\n",
       "      <th>25%</th>\n",
       "      <td>5.000000</td>\n",
       "    </tr>\n",
       "    <tr>\n",
       "      <th>50%</th>\n",
       "      <td>5.000000</td>\n",
       "    </tr>\n",
       "    <tr>\n",
       "      <th>75%</th>\n",
       "      <td>5.000000</td>\n",
       "    </tr>\n",
       "    <tr>\n",
       "      <th>max</th>\n",
       "      <td>5.000000</td>\n",
       "    </tr>\n",
       "  </tbody>\n",
       "</table>\n",
       "</div>"
      ],
      "text/plain": [
       "       reviewer rating\n",
       "count       905.000000\n",
       "mean          4.829834\n",
       "std           0.428253\n",
       "min           2.000000\n",
       "25%           5.000000\n",
       "50%           5.000000\n",
       "75%           5.000000\n",
       "max           5.000000"
      ]
     },
     "execution_count": 32,
     "metadata": {},
     "output_type": "execute_result"
    }
   ],
   "source": [
    "df[['ASIN','date','reviewer rating']].describe()"
   ]
  },
  {
   "cell_type": "markdown",
   "id": "1ef71a42-e4a2-4689-ab34-928beeb21196",
   "metadata": {},
   "source": [
    "Exploratory Data Analysis\n"
   ]
  },
  {
   "cell_type": "code",
   "execution_count": 33,
   "id": "698147c9-c2be-41f2-9951-9ca506f7994d",
   "metadata": {},
   "outputs": [
    {
     "data": {
      "text/plain": [
       "Index(['book name', 'review title', 'reviewer', 'reviewer rating',\n",
       "       'review description', 'is_verified', 'date', 'timestamp', 'ASIN'],\n",
       "      dtype='object')"
      ]
     },
     "execution_count": 33,
     "metadata": {},
     "output_type": "execute_result"
    }
   ],
   "source": [
    "df.columns"
   ]
  },
  {
   "cell_type": "code",
   "execution_count": 34,
   "id": "d29da1cf-d7bb-4a8f-999f-e10ffac91ea1",
   "metadata": {},
   "outputs": [
    {
     "data": {
      "text/plain": [
       "<Axes: xlabel='reviewer rating', ylabel='count'>"
      ]
     },
     "execution_count": 34,
     "metadata": {},
     "output_type": "execute_result"
    },
    {
     "data": {
      "image/png": "[encoded data removed]",
      "text/plain": [
       "<Figure size 640x480 with 1 Axes>"
      ]
     },
     "metadata": {},
     "output_type": "display_data"
    }
   ],
   "source": [
    "sns.countplot(x='reviewer rating',data=df)"
   ]
  },
  {
   "cell_type": "code",
   "execution_count": 37,
   "id": "1769a298-b3c2-4571-8d3f-fe6096055845",
   "metadata": {},
   "outputs": [
    {
     "data": {
      "image/png": "[encoded data removed]",
      "text/plain": [
       "<Figure size 640x480 with 1 Axes>"
      ]
     },
     "metadata": {},
     "output_type": "display_data"
    }
   ],
   "source": [
    "# to get values also in output use below \n",
    "ax=sns.countplot(x='reviewer rating',data=df)\n",
    "for bars in ax.containers:\n",
    "    ax.bar_label(bars)"
   ]
  },
  {
   "cell_type": "code",
   "execution_count": 39,
   "id": "965c2a7e-600c-4ccf-9c15-73982c162732",
   "metadata": {},
   "outputs": [
    {
     "data": {
      "text/plain": [
       "Index(['book name', 'review title', 'reviewer', 'reviewer rating',\n",
       "       'review description', 'is_verified', 'date', 'timestamp', 'ASIN'],\n",
       "      dtype='object')"
      ]
     },
     "execution_count": 39,
     "metadata": {},
     "output_type": "execute_result"
    }
   ],
   "source": [
    "df.columns"
   ]
  },
  {
   "cell_type": "code",
   "execution_count": 50,
   "id": "cdaf15bf-6dd8-47fd-8e6d-a817595e518a",
   "metadata": {},
   "outputs": [
    {
     "data": {
      "text/plain": [
       "<Axes: xlabel='is_verified', ylabel='reviewer rating'>"
      ]
     },
     "execution_count": 50,
     "metadata": {},
     "output_type": "execute_result"
    },
    {
     "data": {
      "image/png": "[encoded data removed]",
      "text/plain": [
       "<Figure size 640x480 with 1 Axes>"
      ]
     },
     "metadata": {},
     "output_type": "display_data"
    }
   ],
   "source": [
    "sales_bookname=df.groupby(['is_verified'],as_index=False)['reviewer rating'].sum().sort_values(by='reviewer rating',ascending = False)\n",
    "sns.barplot(x='is_verified', y= 'reviewer rating', data =sales_bookname)"
   ]
  },
  {
   "cell_type": "code",
   "execution_count": 62,
   "id": "74191793-3d60-4502-bafc-e4a298c980ad",
   "metadata": {},
   "outputs": [
    {
     "data": {
      "text/plain": [
       "<Axes: xlabel='date', ylabel='reviewer rating'>"
      ]
     },
     "execution_count": 62,
     "metadata": {},
     "output_type": "execute_result"
    },
    {
     "data": {
      "image/png": "[encoded data removed]",
      "text/plain": [
       "<Figure size 1000x500 with 1 Axes>"
      ]
     },
     "metadata": {},
     "output_type": "display_data"
    }
   ],
   "source": [
    "sales_bookname=df.groupby(['date'],as_index=False)['reviewer rating'].sum().sort_values(by='reviewer rating',ascending = False).head(5)\n",
    "sns.set(rc={'figure.figsize':(10,5)})\n",
    "sns.barplot(x='date', y= 'reviewer rating', data =sales_bookname)\n"
   ]
  },
  {
   "cell_type": "code",
   "execution_count": null,
   "id": "0dd29818-fd22-4880-985b-bbdd8559851c",
   "metadata": {},
   "outputs": [],
   "source": []
  }
 ],
 "metadata": {
  "kernelspec": {
   "display_name": "Python 3 (ipykernel)",
   "language": "python",
   "name": "python3"
  },
  "language_info": {
   "codemirror_mode": {
    "name": "ipython",
    "version": 3
   },
   "file_extension": ".py",
   "mimetype": "text/x-python",
   "name": "python",
   "nbconvert_exporter": "python",
   "pygments_lexer": "ipython3",
   "version": "3.12.0"
  }
 },
 "nbformat": 4,
 "nbformat_minor": 5
}
